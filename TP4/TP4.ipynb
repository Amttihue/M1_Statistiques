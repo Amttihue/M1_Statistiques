{
 "cells": [
  {
   "cell_type": "markdown",
   "metadata": {},
   "source": [
    "## Exercice 6\n",
    "\n",
    "On va effectuer un test de conformité sur la moyenne avec un petit échantillon (n=20) qui suit une loi normale de variance inconnue"
   ]
  },
  {
   "cell_type": "code",
   "execution_count": 11,
   "metadata": {},
   "outputs": [],
   "source": [
    "import numpy as np\n",
    "import matplotlib.pyplot as plt"
   ]
  },
  {
   "cell_type": "code",
   "execution_count": 21,
   "metadata": {},
   "outputs": [
    {
     "name": "stdout",
     "output_type": "stream",
     "text": [
      "moyenne=396.0 ; variance estimée(s'^2)=38.842\n"
     ]
    }
   ],
   "source": [
    "# a) Calculer la moyenne et la variance de cet échantillon\n",
    "X = [386,387,388,389,390,391,392,392,395,396,398,399,400,400,400,401,402,404,404,406]\n",
    "\n",
    "n = len(X)\n",
    "moy = np.mean(X)\n",
    "var = np.var(X)\n",
    "s2 = n/(n-1)*var\n",
    "\n",
    "print(f\"moyenne={moy} ; variance estimée(s'^2)={s2:.3f}\")\n",
    "\n",
    "\n"
   ]
  },
  {
   "cell_type": "markdown",
   "metadata": {},
   "source": [
    "1. On définit l'hypothèse nulle $H_0$ : \"Nos données suivent une loi d'espérance 400\"\n",
    "   \n",
    "2. On étudie la V.A. $\\overline{X}$, \n",
    "\n",
    "    La V.A. $Y = \\frac{\\overline{X}-\\mu}{\\sqrt{s'^2/n-1}}$  suit une loi de Student avec $n-1=19$ degrés de liberté.\n",
    "\n",
    "3. On détermine l'intervalle d'acceptation $[-t;t]$ tel que $\\mathbb{P}(Y\\in [-t;t])=0.95$\n",
    "   \n",
    "   Dans la table de la loi de Student, on trouve $t = 2.093$\n",
    "\n",
    "   L'intervalle d'acceptation au risque d'erreur de 5% est $[-2.093;2.093]$"
   ]
  },
  {
   "cell_type": "code",
   "execution_count": 23,
   "metadata": {},
   "outputs": [
    {
     "name": "stdout",
     "output_type": "stream",
     "text": [
      "estimation de y = -2.798\n"
     ]
    }
   ],
   "source": [
    "y = (moy-400)/np.sqrt(s2/(n-1))\n",
    "print(f\"estimation de y = {y:.3f}\")"
   ]
  },
  {
   "cell_type": "markdown",
   "metadata": {},
   "source": [
    "On calcule une estimation de Y.\n",
    "\n",
    "Y = $\\frac{\\overline{x}-400}{\\sqrt{s2/(n-1)}} = -2.798$\n",
    "\n",
    "Ici $y \\in [-2.798;2.798]$ donc au risque de se tromper dans 5% des cas. On rejette $H_0$\n",
    "\n",
    "c) Au risque d'erreur de 1%, l'intervalle d'acceptation est $I_a = [-2.861;2.861]$. Cette fois ci, $y \\in I_a$\n",
    "\n",
    "On ne rejette pas avec 1% d'erreur."
   ]
  },
  {
   "cell_type": "markdown",
   "metadata": {},
   "source": [
    "****\n",
    "## Exercice 8"
   ]
  },
  {
   "cell_type": "code",
   "execution_count": 27,
   "metadata": {},
   "outputs": [],
   "source": [
    "#On importe matplotlib\n",
    "import matplotlib.pyplot as plt"
   ]
  },
  {
   "cell_type": "code",
   "execution_count": 33,
   "metadata": {},
   "outputs": [
    {
     "name": "stdout",
     "output_type": "stream",
     "text": [
      "36 36\n"
     ]
    },
    {
     "data": {
      "image/png": "[encoded data removed]",
      "text/plain": [
       "<Figure size 640x480 with 1 Axes>"
      ]
     },
     "metadata": {},
     "output_type": "display_data"
    }
   ],
   "source": [
    "ages = list(range(15,51))\n",
    "nbEnfants = [2,10,23,44,94,158,235,315,396,525,647,790,915,1039,1110,1196,1210,1174,1114,1035,917,800,661,540,445,337,238,169,108,63,38,20,10,5,4,2]\n",
    "\n",
    "\n",
    "print(len(ages),len(nbEnfants))\n",
    "plt.plot(ages,nbEnfants, 'r-+')\n",
    "plt.show()"
   ]
  },
  {
   "cell_type": "code",
   "execution_count": 40,
   "metadata": {},
   "outputs": [
    {
     "name": "stdout",
     "output_type": "stream",
     "text": [
      "Moyenne=31.126 ; Variance=28.307\n",
      "G1 = 0.052 ; G1 réduit = 2.720\n"
     ]
    }
   ],
   "source": [
    "n = sum(nbEnfants)\n",
    "moy = 1/n* sum([ages[i]*nbEnfants[i] for i in range(len(ages))])\n",
    "\n",
    "s2 = 1/n * sum([(ages[i]-moy)**2*nbEnfants[i] for i in range(len(ages))])\n",
    "print(f\"Moyenne={moy:.3f} ; Variance={s2:.3f}\")\n",
    "\n",
    "num = 1/n*sum([(ages[i]-moy)**3 * nbEnfants[i] for i in range(len(ages))])\n",
    "denum = (s2)**(3/2)\n",
    "G1 = num/denum\n",
    "G1r = G1 / np.sqrt(6/n)\n",
    "\n",
    "print(f\"G1 = {G1:.3f} ; G1 réduit = {G1r:.3f}\")"
   ]
  },
  {
   "cell_type": "markdown",
   "metadata": {},
   "source": [
    "### 11/12/2024\n",
    "\n",
    "(suite de l'exo 8)\n",
    "\n",
    "Les données suivent elels une répartition suivant une loi normale ?\n",
    "\n",
    "Graphiquement, il semble que oui.\n",
    "\n",
    "On étudie le coefficient d'asymétrie pour répondre à cette question.\n",
    "\n",
    "1) H_0 : \"Les données suivent une loi normale\"\n",
    "2) \"La statistique discriminante est G1 = ????\n",
    "   \n",
    "   On a $G1 \\sim N(0;\\frac{6}{N})$\n",
    "3) On définit une région d'acceptation au risque d'erreur de 5% tel que $\\mathbb{P}(a\\leq G1 \\leq 6)=1-0.05$\n",
    "   \n",
    "   Puisque $G1 \\sim N(0;\\frac{6}{n})$, $G1r=\\frac{G1}{\\sqrt{\\frac{6}{n}}} \\sim N(0,1)$\n",
    "\n",
    "   et on cherche $u_{0.925}$ car $\\mathbb{P}(-u_{0.925} \\leq G1r \\leq u_{0.925})=0.95$\n",
    "\n",
    "   La région d'acceptation pour G1r est $[-1.96;1.96]$\n",
    "\n",
    "   Pour G1, $\\bigg[-1.96 \\times \\sqrt{\\frac{6}{n}};1.96 \\times \\sqrt{\\frac{6}{n}}\\bigg]$\n",
    "\n",
    "4) On a calculé $G1r = 2.720$\n",
    "   \n",
    "   Or, $G1R \\in [-1.96;1.96]$\n",
    "\n",
    "   On rejète donc l'hypothèse nulle au risque d'erreur de 5%. Avec 5% d'erreur, on peut dire que les donénes ne suivent pas une loi normale."
   ]
  },
  {
   "cell_type": "code",
   "execution_count": null,
   "metadata": {},
   "outputs": [],
   "source": []
  }
 ],
 "metadata": {
  "kernelspec": {
   "display_name": "Python 3",
   "language": "python",
   "name": "python3"
  },
  "language_info": {
   "codemirror_mode": {
    "name": "ipython",
    "version": 3
   },
   "file_extension": ".py",
   "mimetype": "text/x-python",
   "name": "python",
   "nbconvert_exporter": "python",
   "pygments_lexer": "ipython3",
   "version": "3.10.11"
  }
 },
 "nbformat": 4,
 "nbformat_minor": 2
}
